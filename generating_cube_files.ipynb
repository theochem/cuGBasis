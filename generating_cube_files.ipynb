{
 "cells": [
  {
   "cell_type": "markdown",
   "id": "c3f6be589f2f01a9",
   "metadata": {},
   "source": [
    "# Generating Cube Files\n",
    "\n",
    "This example will illustrate how to generate .cube files using UniformGrid from Grid package for various functions that ChemToolsCUDA can compute. \n",
    "There are many scalar-functions that ChemToolsCUDA can compute that can be used to substitute any function (e.g. density, laplacian) below."
   ]
  },
  {
   "cell_type": "code",
   "execution_count": 1,
   "id": "initial_id",
   "metadata": {
    "ExecuteTime": {
     "end_time": "2024-04-08T22:11:54.250791Z",
     "start_time": "2024-04-08T22:11:51.119066Z"
    },
    "collapsed": true
   },
   "outputs": [],
   "source": [
    "from chemtools_cuda import Molecule\n",
    "\n",
    "file_path = r\"./ALA_ALA_0_q000_m01_k00_force_uwb97xd_def2svpd.fchk\"\n",
    "mol = Molecule(file_path)"
   ]
  },
  {
   "cell_type": "code",
   "execution_count": 2,
   "id": "58d948ef4885b543",
   "metadata": {
    "ExecuteTime": {
     "end_time": "2024-04-08T22:11:57.680892Z",
     "start_time": "2024-04-08T22:11:54.252606Z"
    }
   },
   "outputs": [
    {
     "name": "stdout",
     "output_type": "stream",
     "text": [
      "Origin of grid:   [23.83113906 34.61384519  5.25461588]\n",
      "Cubic Grid Axes:  [[-0.0488626  -0.05321598  0.10807639]\n",
      " [ 0.04014544 -0.11715483 -0.03953591]\n",
      " [-0.11358164 -0.01851498 -0.06046822]]\n",
      "Cubic Grid Shape: [279 245 199]\n",
      "Number of Points: 13602645\n"
     ]
    }
   ],
   "source": [
    "from grid.cubic import UniformGrid\n",
    "\n",
    "grid = UniformGrid.from_molecule(mol.numbers, mol.coordinates, spacing=0.13, extension=10.0, weight=\"Rectangle\")\n",
    "print(f\"Origin of grid:   {grid.origin}\")\n",
    "print(f\"Cubic Grid Axes:  {grid.axes}\")\n",
    "print(f\"Cubic Grid Shape: {grid.shape}\")\n",
    "print(f\"Number of Points: {len(grid.points)}\")\n"
   ]
  },
  {
   "cell_type": "markdown",
   "id": "9e5cfee887d91290",
   "metadata": {},
   "source": [
    "## Density\n"
   ]
  },
  {
   "cell_type": "code",
   "execution_count": 3,
   "id": "be54873ac22bbf71",
   "metadata": {
    "ExecuteTime": {
     "end_time": "2024-04-08T22:12:31.244459Z",
     "start_time": "2024-04-08T22:11:57.682294Z"
    }
   },
   "outputs": [
    {
     "name": "stdout",
     "output_type": "stream",
     "text": [
      "Total number of electrons:       108\n",
      "Integration of electron density: 107.9762750986812\n",
      "Integration Using Loaded Cube:   107.97634587639091\n",
      "Do both densities match:         True\n"
     ]
    }
   ],
   "source": [
    "import numpy as np\n",
    "\n",
    "dens = mol.compute_density(grid.points)\n",
    "\n",
    "print(f\"Total number of electrons:       {np.sum(mol.numbers)}\")\n",
    "print(f\"Integration of electron density: {grid.integrate(dens)}\")\n",
    "\n",
    "# Generate cube file for the density\n",
    "grid.generate_cube(\"density_ala_ala.cube\", dens, mol.coordinates, mol.numbers)\n",
    "\n",
    "# Load the cube file \n",
    "grid_2, grid_data = UniformGrid.from_cube(\"./density_ala_ala.cube\", weight=\"Rectangle\", return_data=True) \n",
    "\n",
    "print(f\"Integration Using Loaded Cube:   {grid_2.integrate(grid_data['data'])}\")\n",
    "print(f\"Do both densities match:         {np.all(np.abs(dens - grid_data['data']) < 1e-3)}\")"
   ]
  },
  {
   "cell_type": "markdown",
   "id": "c5e6c9100564e6e0",
   "metadata": {},
   "source": [
    "## Laplacian"
   ]
  },
  {
   "cell_type": "code",
   "execution_count": 4,
   "id": "6d454e1d58642547",
   "metadata": {
    "ExecuteTime": {
     "end_time": "2024-04-08T22:13:01.491565Z",
     "start_time": "2024-04-08T22:12:31.245656Z"
    }
   },
   "outputs": [],
   "source": [
    "lap = mol.compute_laplacian(grid.points)\n",
    "\n",
    "# Generate cube file for the density\n",
    "grid.generate_cube(\"lap_ala_ala.cube\", lap, mol.coordinates, mol.numbers)\n",
    "\n",
    "# Load the cube file \n",
    "#grid_2, grid_data = UniformGrid.from_cube(\"./lap_ala_ala.cube\", weight=\"Rectangle\", return_data=True) \n",
    "#lap_2 = grid_data[\"data\"]"
   ]
  },
  {
   "cell_type": "markdown",
   "id": "951cc5a9e1137378",
   "metadata": {},
   "source": [
    "## Reduced Density Gradient"
   ]
  },
  {
   "cell_type": "code",
   "execution_count": 5,
   "id": "7d9a31b642e29ac0",
   "metadata": {
    "ExecuteTime": {
     "end_time": "2024-04-08T22:13:32.624897Z",
     "start_time": "2024-04-08T22:13:01.492563Z"
    }
   },
   "outputs": [],
   "source": [
    "rdg = mol.compute_reduced_density_gradient(grid.points)\n",
    "\n",
    "# Generate cube file for the density\n",
    "grid.generate_cube(\"rdg_ala_ala.cube\", rdg, mol.coordinates, mol.numbers)\n",
    "\n",
    "# Load the cube file \n",
    "#grid_2, grid_data = UniformGrid.from_cube(\"./rdg_ala_ala.cube\", weight=\"Rectangle\", return_data=True) \n",
    "#rdg_2 = grid_data[\"data\"]"
   ]
  }
 ],
 "metadata": {
  "kernelspec": {
   "display_name": "Python 3",
   "language": "python",
   "name": "python3"
  },
  "language_info": {
   "codemirror_mode": {
    "name": "ipython",
    "version": 2
   },
   "file_extension": ".py",
   "mimetype": "text/x-python",
   "name": "python",
   "nbconvert_exporter": "python",
   "pygments_lexer": "ipython2",
   "version": "2.7.6"
  }
 },
 "nbformat": 4,
 "nbformat_minor": 5
}
